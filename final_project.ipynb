{
 "cells": [
  {
   "cell_type": "markdown",
   "metadata": {},
   "source": [
    "# **Table Of Contents**\n",
    "1. Problem Statement\n",
    "2. Data Description\n",
    "3. Data Exploration and Visualization\n",
    "4. Baseline Models (Majority Class, Linear Regression)\n",
    "5. Final Model\n",
    "6. Model Interpretation and Results\n",
    "7. Conclusion"
   ]
  },
  {
   "cell_type": "markdown",
   "metadata": {},
   "source": [
    "QUESTIONS FOR COREY:\n",
    "\n",
    "- EDA for WSJ data?\n",
    "- Model selection? Pair down?\n",
    "- How much needs to be copied over from previous milestones?\n",
    "    i.e. EDA???"
   ]
  },
  {
   "cell_type": "markdown",
   "metadata": {},
   "source": [
    "<div style=\"background-color: #007BFF; height: 4px; width: 100%;\"></div>"
   ]
  },
  {
   "cell_type": "markdown",
   "metadata": {},
   "source": [
    "# **Problem Statement**"
   ]
  },
  {
   "cell_type": "markdown",
   "metadata": {},
   "source": [
    "#### **Context**\n",
    "\n",
    "Financial markets are highly sensitive to news and public sentiment, making accurate market predictions a challenging yet essential task for investors, analysts, and policymakers. Traditional methods of predicting stock market trends often rely on historical price data, technical indicators, and economic metrics, but they may overlook the impact of real-time news sentiment on market dynamics. This project aims to address this gap by leveraging the sentiment of headlines from the New York Times (NYT) and Wall Street Journal (WSJ) as a proxy for public and market sentiment. By analyzing how the tone and context of headlines correlate with movements in the S&P 500 index, we seek to uncover patterns that can complement existing predictive models. This approach reflects the growing importance of sentiment analysis in financial forecasting, recognizing the critical role that media and public perception play in shaping market behavior."
   ]
  },
  {
   "cell_type": "markdown",
   "metadata": {},
   "source": [
    "#### **Motivation**\n",
    "\n",
    "The motivation for building a model to predict S&P 500 closing prices using the sentiments of New York Times (NYT) and Wall Street Journal (WSJ) headlines lies in the significant influence that public sentiment and news have on financial markets. Headlines often capture prevailing market sentiment, economic developments, and geopolitical events, which can drive investor behavior and, consequently, market movements. By analyzing the sentiment expressed in NYT headlines, we aim to extract valuable insights into market sentiment that could enhance traditional financial models. Integrating sentiment analysis with market prediction can improve the timeliness and accuracy of forecasts, providing a more comprehensive tool for investors and analysts to make informed decisions in a rapidly changing economic environment."
   ]
  },
  {
   "cell_type": "markdown",
   "metadata": {},
   "source": [
    "#### **Problem Statement** \n",
    "\n",
    "Using various sentiment analysis methods (VADER, TextBlob, BERT), we aim to compute sentiment scores for NYT headlines and WSJ headline between 1998 and 2020. Each headline includes a date and section field as well. NYT headlines were collected from 1990 to 2020 (avoiding harder to predict post-COVID fluctuations in the market). WSJ headlines were collected from 1998 to 2021. For this reason, we will use the years in overlap to perform sentiment analysis (1998 - 2020). Subsequent S&P 500 data closing prices have been collected at each time period during this timeframe, and we scaled these values to account for inflation."
   ]
  },
  {
   "cell_type": "markdown",
   "metadata": {},
   "source": [
    "<div style=\"background-color: #007BFF; height: 4px; width: 100%;\"></div>"
   ]
  },
  {
   "cell_type": "markdown",
   "metadata": {},
   "source": [
    "# **Our Approach**"
   ]
  },
  {
   "cell_type": "markdown",
   "metadata": {},
   "source": [
    "We created a dataframe with an entry for each time point. For that time point, we average the sentiment scores for that day, and also add the number of headlines from each section into the row. Finally, our response is the S&P 500 closing price.\n",
    "\n",
    "For the sentiment analysis, we used three different methods - VADER and TextBlob and BERT - to give a score to each NYT and WSJ article headline. Due to the short nature of each headline (on average 6 words or less), the majority of scores are 0, thus we exclude sentiment scores of 0 in order to assess either a positive or negative value for the time period - we will experiment with this threshold. It should be noted that there are many more headlines for the WSJ compared to the NYT, so we could only perform BERT on the WSJ enteries due to the computational time to incorporate this model. After testing multiple time points in milestones 4, we concluded that the average sentiment analysis for each month worked best to predict the S&P 500. This means we have a df where each row is a day date (averaged sentiment scores for that day and S&P closing price for that day), week (averaged sentiment scores for that day and averaged S&P closing price for that week) and so on."
   ]
  },
  {
   "cell_type": "markdown",
   "metadata": {},
   "source": [
    "#### **Datasets** \n",
    "\n",
    "For our **headline sentiment analysis**, we sourced two datasets -- New York Times headlines and Wall Street Journal headlines. These datasets are both cited from Kaggle.\n",
    "\n",
    "1. Kaggle Wall Street Journal: https://www.kaggle.com/datasets/amogh7joshi/wsj-headline-classification/data\n",
    "\n",
    "    The dataset consists of over 19,000 headlines scraped from the Wall Street Journal archives, spanning the period from May 3, 1998, to June 30, 2021. The headlines are organized into 67 categories based on the Wall Street Journal's classification system, making the dataset a valuable resource for tasks such as news category classification and unsupervised clustering. Headlines were randomly sampled (3-4 per day) and categorized, with categories containing fewer than 100 entries removed.\n",
    "\n",
    "2. Kaggle New York Times: https://www.kaggle.com/datasets/johnbandy/new-york-times-headlines\n",
    "\n",
    "    This dataset contains headlines from articles published by The New York Times between 1990 and 2020, along with accompanying metadata such as author, URL, word count, section, and more. It was created in July 2021 using The New York Times Article Search API. While it provides a comprehensive archive for text analysis and research, some records may have incomplete data due to API limitations.\n",
    "\n",
    "For our **S&P closing prices**, we are using Python’s built-in Yahoo Finance function (yfinance) to pull historical stock market data and storing it in a dataframe."
   ]
  },
  {
   "cell_type": "markdown",
   "metadata": {},
   "source": [
    "#### **Dependencies**"
   ]
  },
  {
   "cell_type": "markdown",
   "metadata": {},
   "source": [
    "TODO: write dependencies descriptions"
   ]
  },
  {
   "cell_type": "code",
   "execution_count": 1,
   "metadata": {},
   "outputs": [],
   "source": [
    "import pandas as pd\n",
    "import os\n",
    "import matplotlib.pyplot as plt\n",
    "from textblob import TextBlob\n",
    "from vaderSentiment.vaderSentiment import SentimentIntensityAnalyzer\n",
    "from transformers import AutoTokenizer, AutoModelForSequenceClassification\n",
    "import torch\n",
    "import pandas as pd\n",
    "from tqdm import tqdm\n",
    "from sklearn.preprocessing import MinMaxScaler"
   ]
  },
  {
   "cell_type": "markdown",
   "metadata": {},
   "source": [
    "<div style=\"background-color: #007BFF; height: 4px; width: 100%;\"></div>"
   ]
  },
  {
   "cell_type": "markdown",
   "metadata": {},
   "source": [
    "# **Data Exploration and Visualizations**"
   ]
  },
  {
   "cell_type": "markdown",
   "metadata": {},
   "source": [
    "<div style=\"background-color: #007BFF; height: 4px; width: 100%;\"></div>"
   ]
  },
  {
   "cell_type": "markdown",
   "metadata": {},
   "source": [
    "# **Data Cleaning**"
   ]
  },
  {
   "cell_type": "markdown",
   "metadata": {},
   "source": [
    "Loading data from csv's"
   ]
  },
  {
   "cell_type": "code",
   "execution_count": 3,
   "metadata": {},
   "outputs": [],
   "source": [
    "archive_path = \"archive\"\n",
    "dfs = []\n",
    "for filename in os.listdir(archive_path):\n",
    "    if filename.endswith(\".csv\") and filename.startswith(\"new_york_times_stories_\"):\n",
    "        file_path = os.path.join(archive_path, filename)\n",
    "        \n",
    "        df = pd.read_csv(file_path, dtype={\"print_page\": str})\n",
    "        dfs.append(df)\n",
    "\n",
    "data_nyt= pd.concat(dfs, ignore_index=True)\n",
    "data_wsj = pd.read_csv(\"./archive/wsj_headlines.csv\")"
   ]
  },
  {
   "cell_type": "code",
   "execution_count": 4,
   "metadata": {},
   "outputs": [
    {
     "data": {
      "text/html": [
       "<div>\n",
       "<style scoped>\n",
       "    .dataframe tbody tr th:only-of-type {\n",
       "        vertical-align: middle;\n",
       "    }\n",
       "\n",
       "    .dataframe tbody tr th {\n",
       "        vertical-align: top;\n",
       "    }\n",
       "\n",
       "    .dataframe thead th {\n",
       "        text-align: right;\n",
       "    }\n",
       "</style>\n",
       "<table border=\"1\" class=\"dataframe\">\n",
       "  <thead>\n",
       "    <tr style=\"text-align: right;\">\n",
       "      <th></th>\n",
       "      <th>date</th>\n",
       "      <th>headline</th>\n",
       "      <th>source</th>\n",
       "      <th>year</th>\n",
       "      <th>textblob_wsj</th>\n",
       "      <th>vader_nyt</th>\n",
       "      <th>bert_wsj_label</th>\n",
       "      <th>bert_wsj</th>\n",
       "    </tr>\n",
       "  </thead>\n",
       "  <tbody>\n",
       "    <tr>\n",
       "      <th>0</th>\n",
       "      <td>2012-01-26 00:00:00+00:00</td>\n",
       "      <td>Mother Nature Raps Natural Gas</td>\n",
       "      <td>wsj</td>\n",
       "      <td>2012</td>\n",
       "      <td>0.1</td>\n",
       "      <td>0.3612</td>\n",
       "      <td>2</td>\n",
       "      <td>0.293945</td>\n",
       "    </tr>\n",
       "    <tr>\n",
       "      <th>1</th>\n",
       "      <td>2007-06-15 00:00:00+00:00</td>\n",
       "      <td>Subprime Woes Pinch Bear's Mortgage Star</td>\n",
       "      <td>wsj</td>\n",
       "      <td>2007</td>\n",
       "      <td>0.0</td>\n",
       "      <td>-0.4404</td>\n",
       "      <td>-2</td>\n",
       "      <td>0.287087</td>\n",
       "    </tr>\n",
       "    <tr>\n",
       "      <th>2</th>\n",
       "      <td>2011-01-24 00:00:00+00:00</td>\n",
       "      <td>Facebook Alters Tool in German Privacy Deal</td>\n",
       "      <td>wsj</td>\n",
       "      <td>2011</td>\n",
       "      <td>0.0</td>\n",
       "      <td>0.0000</td>\n",
       "      <td>-2</td>\n",
       "      <td>0.517856</td>\n",
       "    </tr>\n",
       "    <tr>\n",
       "      <th>3</th>\n",
       "      <td>2014-02-20 00:00:00+00:00</td>\n",
       "      <td>EU Ministers Clear Sanctions on Ukraine</td>\n",
       "      <td>wsj</td>\n",
       "      <td>2014</td>\n",
       "      <td>0.1</td>\n",
       "      <td>0.3818</td>\n",
       "      <td>1</td>\n",
       "      <td>0.228783</td>\n",
       "    </tr>\n",
       "    <tr>\n",
       "      <th>4</th>\n",
       "      <td>2011-01-09 00:00:00+00:00</td>\n",
       "      <td>Authorities Seek Possible Associate of Suspect</td>\n",
       "      <td>wsj</td>\n",
       "      <td>2011</td>\n",
       "      <td>0.0</td>\n",
       "      <td>-0.2960</td>\n",
       "      <td>-2</td>\n",
       "      <td>0.429186</td>\n",
       "    </tr>\n",
       "  </tbody>\n",
       "</table>\n",
       "</div>"
      ],
      "text/plain": [
       "                        date                                        headline  \\\n",
       "0  2012-01-26 00:00:00+00:00                  Mother Nature Raps Natural Gas   \n",
       "1  2007-06-15 00:00:00+00:00        Subprime Woes Pinch Bear's Mortgage Star   \n",
       "2  2011-01-24 00:00:00+00:00     Facebook Alters Tool in German Privacy Deal   \n",
       "3  2014-02-20 00:00:00+00:00         EU Ministers Clear Sanctions on Ukraine   \n",
       "4  2011-01-09 00:00:00+00:00  Authorities Seek Possible Associate of Suspect   \n",
       "\n",
       "  source  year  textblob_wsj  vader_nyt  bert_wsj_label  bert_wsj  \n",
       "0    wsj  2012           0.1     0.3612               2  0.293945  \n",
       "1    wsj  2007           0.0    -0.4404              -2  0.287087  \n",
       "2    wsj  2011           0.0     0.0000              -2  0.517856  \n",
       "3    wsj  2014           0.1     0.3818               1  0.228783  \n",
       "4    wsj  2011           0.0    -0.2960              -2  0.429186  "
      ]
     },
     "metadata": {},
     "output_type": "display_data"
    },
    {
     "data": {
      "text/html": [
       "<div>\n",
       "<style scoped>\n",
       "    .dataframe tbody tr th:only-of-type {\n",
       "        vertical-align: middle;\n",
       "    }\n",
       "\n",
       "    .dataframe tbody tr th {\n",
       "        vertical-align: top;\n",
       "    }\n",
       "\n",
       "    .dataframe thead th {\n",
       "        text-align: right;\n",
       "    }\n",
       "</style>\n",
       "<table border=\"1\" class=\"dataframe\">\n",
       "  <thead>\n",
       "    <tr style=\"text-align: right;\">\n",
       "      <th></th>\n",
       "      <th>headline</th>\n",
       "      <th>source</th>\n",
       "      <th>word_count</th>\n",
       "      <th>url</th>\n",
       "      <th>print_section</th>\n",
       "      <th>print_page</th>\n",
       "      <th>author</th>\n",
       "      <th>type</th>\n",
       "      <th>pub_date</th>\n",
       "      <th>news_desk</th>\n",
       "      <th>section</th>\n",
       "      <th>year</th>\n",
       "    </tr>\n",
       "  </thead>\n",
       "  <tbody>\n",
       "    <tr>\n",
       "      <th>0</th>\n",
       "      <td>Bridge</td>\n",
       "      <td>The New York Times</td>\n",
       "      <td>411.0</td>\n",
       "      <td>https://www.nytimes.com/1990/01/01/nyregion/br...</td>\n",
       "      <td>1</td>\n",
       "      <td>45.0</td>\n",
       "      <td>By Alan Truscott</td>\n",
       "      <td>article</td>\n",
       "      <td>1990-01-01T05:00:00+0000</td>\n",
       "      <td>Metropolitan Desk</td>\n",
       "      <td>New York</td>\n",
       "      <td>1990.0</td>\n",
       "    </tr>\n",
       "    <tr>\n",
       "      <th>1</th>\n",
       "      <td>He Has Tyson On His Mind</td>\n",
       "      <td>The New York Times</td>\n",
       "      <td>199.0</td>\n",
       "      <td>https://www.nytimes.com/1990/01/01/sports/spor...</td>\n",
       "      <td>1</td>\n",
       "      <td>38.0</td>\n",
       "      <td>By Phil Berger</td>\n",
       "      <td>article</td>\n",
       "      <td>1990-01-01T05:00:00+0000</td>\n",
       "      <td>Sports Desk</td>\n",
       "      <td>Sports</td>\n",
       "      <td>1990.0</td>\n",
       "    </tr>\n",
       "    <tr>\n",
       "      <th>2</th>\n",
       "      <td>For Dinkins, Pomp, Ceremony, Triumph And a Dre...</td>\n",
       "      <td>The New York Times</td>\n",
       "      <td>1233.0</td>\n",
       "      <td>https://www.nytimes.com/1990/01/01/nyregion/fo...</td>\n",
       "      <td>1</td>\n",
       "      <td>27.0</td>\n",
       "      <td>By Don Terry</td>\n",
       "      <td>article</td>\n",
       "      <td>1990-01-01T05:00:00+0000</td>\n",
       "      <td>Metropolitan Desk</td>\n",
       "      <td>New York</td>\n",
       "      <td>1990.0</td>\n",
       "    </tr>\n",
       "    <tr>\n",
       "      <th>3</th>\n",
       "      <td>Army Doesn't Have to Compete With Marines;   W...</td>\n",
       "      <td>The New York Times</td>\n",
       "      <td>524.0</td>\n",
       "      <td>https://www.nytimes.com/1990/01/01/opinion/l-a...</td>\n",
       "      <td>1</td>\n",
       "      <td>24.0</td>\n",
       "      <td>NaN</td>\n",
       "      <td>article</td>\n",
       "      <td>1990-01-01T05:00:00+0000</td>\n",
       "      <td>Editorial Desk</td>\n",
       "      <td>Opinion</td>\n",
       "      <td>1990.0</td>\n",
       "    </tr>\n",
       "    <tr>\n",
       "      <th>4</th>\n",
       "      <td>Students Must Get to School and Back Safely</td>\n",
       "      <td>The New York Times</td>\n",
       "      <td>363.0</td>\n",
       "      <td>https://www.nytimes.com/1990/01/01/opinion/l-s...</td>\n",
       "      <td>1</td>\n",
       "      <td>24.0</td>\n",
       "      <td>NaN</td>\n",
       "      <td>article</td>\n",
       "      <td>1990-01-01T05:00:00+0000</td>\n",
       "      <td>Editorial Desk</td>\n",
       "      <td>Opinion</td>\n",
       "      <td>1990.0</td>\n",
       "    </tr>\n",
       "  </tbody>\n",
       "</table>\n",
       "</div>"
      ],
      "text/plain": [
       "                                            headline              source  \\\n",
       "0                                             Bridge  The New York Times   \n",
       "1                           He Has Tyson On His Mind  The New York Times   \n",
       "2  For Dinkins, Pomp, Ceremony, Triumph And a Dre...  The New York Times   \n",
       "3  Army Doesn't Have to Compete With Marines;   W...  The New York Times   \n",
       "4        Students Must Get to School and Back Safely  The New York Times   \n",
       "\n",
       "   word_count                                                url  \\\n",
       "0       411.0  https://www.nytimes.com/1990/01/01/nyregion/br...   \n",
       "1       199.0  https://www.nytimes.com/1990/01/01/sports/spor...   \n",
       "2      1233.0  https://www.nytimes.com/1990/01/01/nyregion/fo...   \n",
       "3       524.0  https://www.nytimes.com/1990/01/01/opinion/l-a...   \n",
       "4       363.0  https://www.nytimes.com/1990/01/01/opinion/l-s...   \n",
       "\n",
       "  print_section print_page            author     type  \\\n",
       "0             1       45.0  By Alan Truscott  article   \n",
       "1             1       38.0    By Phil Berger  article   \n",
       "2             1       27.0      By Don Terry  article   \n",
       "3             1       24.0               NaN  article   \n",
       "4             1       24.0               NaN  article   \n",
       "\n",
       "                   pub_date          news_desk   section    year  \n",
       "0  1990-01-01T05:00:00+0000  Metropolitan Desk  New York  1990.0  \n",
       "1  1990-01-01T05:00:00+0000        Sports Desk    Sports  1990.0  \n",
       "2  1990-01-01T05:00:00+0000  Metropolitan Desk  New York  1990.0  \n",
       "3  1990-01-01T05:00:00+0000     Editorial Desk   Opinion  1990.0  \n",
       "4  1990-01-01T05:00:00+0000     Editorial Desk   Opinion  1990.0  "
      ]
     },
     "metadata": {},
     "output_type": "display_data"
    }
   ],
   "source": [
    "display(data_wsj.head())\n",
    "display(data_nyt.head())"
   ]
  },
  {
   "cell_type": "markdown",
   "metadata": {},
   "source": [
    "We will rename the columns of both csv's for consistence, they check their missigness to ensure our datset is complete. We will also align the start date to be July 1998 - January 2020."
   ]
  },
  {
   "cell_type": "code",
   "execution_count": 5,
   "metadata": {},
   "outputs": [],
   "source": [
    "# NYT headline data\n",
    "df_nyt = data_nyt[[\"headline\", \"pub_date\", \"source\"]].copy()\n",
    "df_nyt = df_nyt[(df_nyt['pub_date'] >= '1998-07-01') & (df_nyt['pub_date'] < '2020-01-01')]\n",
    "df_nyt.rename(columns={'pub_date': 'date'}, inplace=True)\n",
    "df_nyt['date'] = pd.to_datetime(df_nyt['date'], errors='coerce', utc=True)\n",
    "df_nyt[\"source\"] = \"nyt\""
   ]
  },
  {
   "cell_type": "code",
   "execution_count": 6,
   "metadata": {},
   "outputs": [
    {
     "ename": "KeyError",
     "evalue": "\"None of [Index(['Date', 'Headline'], dtype='object')] are in the [columns]\"",
     "output_type": "error",
     "traceback": [
      "\u001b[0;31m---------------------------------------------------------------------------\u001b[0m",
      "\u001b[0;31mKeyError\u001b[0m                                  Traceback (most recent call last)",
      "Cell \u001b[0;32mIn[6], line 2\u001b[0m\n\u001b[1;32m      1\u001b[0m \u001b[38;5;66;03m# WSJ headline data\u001b[39;00m\n\u001b[0;32m----> 2\u001b[0m df_wsj \u001b[38;5;241m=\u001b[39m \u001b[43mdata_wsj\u001b[49m\u001b[43m[\u001b[49m\u001b[43m[\u001b[49m\u001b[38;5;124;43m\"\u001b[39;49m\u001b[38;5;124;43mDate\u001b[39;49m\u001b[38;5;124;43m\"\u001b[39;49m\u001b[43m,\u001b[49m\u001b[43m \u001b[49m\u001b[38;5;124;43m\"\u001b[39;49m\u001b[38;5;124;43mHeadline\u001b[39;49m\u001b[38;5;124;43m\"\u001b[39;49m\u001b[43m]\u001b[49m\u001b[43m]\u001b[49m\u001b[38;5;241m.\u001b[39mcopy()\n\u001b[1;32m      3\u001b[0m df_wsj[\u001b[38;5;124m'\u001b[39m\u001b[38;5;124mDate\u001b[39m\u001b[38;5;124m'\u001b[39m] \u001b[38;5;241m=\u001b[39m pd\u001b[38;5;241m.\u001b[39mto_datetime(df_wsj[\u001b[38;5;124m'\u001b[39m\u001b[38;5;124mDate\u001b[39m\u001b[38;5;124m'\u001b[39m], errors\u001b[38;5;241m=\u001b[39m\u001b[38;5;124m'\u001b[39m\u001b[38;5;124mcoerce\u001b[39m\u001b[38;5;124m'\u001b[39m, utc\u001b[38;5;241m=\u001b[39m\u001b[38;5;28;01mTrue\u001b[39;00m)\n\u001b[1;32m      4\u001b[0m df_wsj \u001b[38;5;241m=\u001b[39m df_wsj[(df_wsj[\u001b[38;5;124m'\u001b[39m\u001b[38;5;124mDate\u001b[39m\u001b[38;5;124m'\u001b[39m] \u001b[38;5;241m>\u001b[39m\u001b[38;5;241m=\u001b[39m \u001b[38;5;124m'\u001b[39m\u001b[38;5;124m1998-07-01\u001b[39m\u001b[38;5;124m'\u001b[39m) \u001b[38;5;241m&\u001b[39m (df_wsj[\u001b[38;5;124m'\u001b[39m\u001b[38;5;124mDate\u001b[39m\u001b[38;5;124m'\u001b[39m] \u001b[38;5;241m<\u001b[39m \u001b[38;5;124m'\u001b[39m\u001b[38;5;124m2020-01-01\u001b[39m\u001b[38;5;124m'\u001b[39m)]\n",
      "File \u001b[0;32m~/micromamba/envs/cs109a/lib/python3.12/site-packages/pandas/core/frame.py:4108\u001b[0m, in \u001b[0;36mDataFrame.__getitem__\u001b[0;34m(self, key)\u001b[0m\n\u001b[1;32m   4106\u001b[0m     \u001b[38;5;28;01mif\u001b[39;00m is_iterator(key):\n\u001b[1;32m   4107\u001b[0m         key \u001b[38;5;241m=\u001b[39m \u001b[38;5;28mlist\u001b[39m(key)\n\u001b[0;32m-> 4108\u001b[0m     indexer \u001b[38;5;241m=\u001b[39m \u001b[38;5;28;43mself\u001b[39;49m\u001b[38;5;241;43m.\u001b[39;49m\u001b[43mcolumns\u001b[49m\u001b[38;5;241;43m.\u001b[39;49m\u001b[43m_get_indexer_strict\u001b[49m\u001b[43m(\u001b[49m\u001b[43mkey\u001b[49m\u001b[43m,\u001b[49m\u001b[43m \u001b[49m\u001b[38;5;124;43m\"\u001b[39;49m\u001b[38;5;124;43mcolumns\u001b[39;49m\u001b[38;5;124;43m\"\u001b[39;49m\u001b[43m)\u001b[49m[\u001b[38;5;241m1\u001b[39m]\n\u001b[1;32m   4110\u001b[0m \u001b[38;5;66;03m# take() does not accept boolean indexers\u001b[39;00m\n\u001b[1;32m   4111\u001b[0m \u001b[38;5;28;01mif\u001b[39;00m \u001b[38;5;28mgetattr\u001b[39m(indexer, \u001b[38;5;124m\"\u001b[39m\u001b[38;5;124mdtype\u001b[39m\u001b[38;5;124m\"\u001b[39m, \u001b[38;5;28;01mNone\u001b[39;00m) \u001b[38;5;241m==\u001b[39m \u001b[38;5;28mbool\u001b[39m:\n",
      "File \u001b[0;32m~/micromamba/envs/cs109a/lib/python3.12/site-packages/pandas/core/indexes/base.py:6200\u001b[0m, in \u001b[0;36mIndex._get_indexer_strict\u001b[0;34m(self, key, axis_name)\u001b[0m\n\u001b[1;32m   6197\u001b[0m \u001b[38;5;28;01melse\u001b[39;00m:\n\u001b[1;32m   6198\u001b[0m     keyarr, indexer, new_indexer \u001b[38;5;241m=\u001b[39m \u001b[38;5;28mself\u001b[39m\u001b[38;5;241m.\u001b[39m_reindex_non_unique(keyarr)\n\u001b[0;32m-> 6200\u001b[0m \u001b[38;5;28;43mself\u001b[39;49m\u001b[38;5;241;43m.\u001b[39;49m\u001b[43m_raise_if_missing\u001b[49m\u001b[43m(\u001b[49m\u001b[43mkeyarr\u001b[49m\u001b[43m,\u001b[49m\u001b[43m \u001b[49m\u001b[43mindexer\u001b[49m\u001b[43m,\u001b[49m\u001b[43m \u001b[49m\u001b[43maxis_name\u001b[49m\u001b[43m)\u001b[49m\n\u001b[1;32m   6202\u001b[0m keyarr \u001b[38;5;241m=\u001b[39m \u001b[38;5;28mself\u001b[39m\u001b[38;5;241m.\u001b[39mtake(indexer)\n\u001b[1;32m   6203\u001b[0m \u001b[38;5;28;01mif\u001b[39;00m \u001b[38;5;28misinstance\u001b[39m(key, Index):\n\u001b[1;32m   6204\u001b[0m     \u001b[38;5;66;03m# GH 42790 - Preserve name from an Index\u001b[39;00m\n",
      "File \u001b[0;32m~/micromamba/envs/cs109a/lib/python3.12/site-packages/pandas/core/indexes/base.py:6249\u001b[0m, in \u001b[0;36mIndex._raise_if_missing\u001b[0;34m(self, key, indexer, axis_name)\u001b[0m\n\u001b[1;32m   6247\u001b[0m \u001b[38;5;28;01mif\u001b[39;00m nmissing:\n\u001b[1;32m   6248\u001b[0m     \u001b[38;5;28;01mif\u001b[39;00m nmissing \u001b[38;5;241m==\u001b[39m \u001b[38;5;28mlen\u001b[39m(indexer):\n\u001b[0;32m-> 6249\u001b[0m         \u001b[38;5;28;01mraise\u001b[39;00m \u001b[38;5;167;01mKeyError\u001b[39;00m(\u001b[38;5;124mf\u001b[39m\u001b[38;5;124m\"\u001b[39m\u001b[38;5;124mNone of [\u001b[39m\u001b[38;5;132;01m{\u001b[39;00mkey\u001b[38;5;132;01m}\u001b[39;00m\u001b[38;5;124m] are in the [\u001b[39m\u001b[38;5;132;01m{\u001b[39;00maxis_name\u001b[38;5;132;01m}\u001b[39;00m\u001b[38;5;124m]\u001b[39m\u001b[38;5;124m\"\u001b[39m)\n\u001b[1;32m   6251\u001b[0m     not_found \u001b[38;5;241m=\u001b[39m \u001b[38;5;28mlist\u001b[39m(ensure_index(key)[missing_mask\u001b[38;5;241m.\u001b[39mnonzero()[\u001b[38;5;241m0\u001b[39m]]\u001b[38;5;241m.\u001b[39munique())\n\u001b[1;32m   6252\u001b[0m     \u001b[38;5;28;01mraise\u001b[39;00m \u001b[38;5;167;01mKeyError\u001b[39;00m(\u001b[38;5;124mf\u001b[39m\u001b[38;5;124m\"\u001b[39m\u001b[38;5;132;01m{\u001b[39;00mnot_found\u001b[38;5;132;01m}\u001b[39;00m\u001b[38;5;124m not in index\u001b[39m\u001b[38;5;124m\"\u001b[39m)\n",
      "\u001b[0;31mKeyError\u001b[0m: \"None of [Index(['Date', 'Headline'], dtype='object')] are in the [columns]\""
     ]
    }
   ],
   "source": [
    "# WSJ headline data\n",
    "df_wsj = data_wsj[[\"Date\", \"Headline\"]].copy()\n",
    "df_wsj['Date'] = pd.to_datetime(df_wsj['Date'], errors='coerce', utc=True)\n",
    "df_wsj = df_wsj[(df_wsj['Date'] >= '1998-07-01') & (df_wsj['Date'] < '2020-01-01')]\n",
    "df_wsj.rename(columns={'Date': 'date', 'Headline': 'headline'}, inplace=True)\n",
    "df_wsj[\"source\"] = \"wsj\""
   ]
  },
  {
   "cell_type": "code",
   "execution_count": null,
   "metadata": {},
   "outputs": [
    {
     "data": {
      "text/html": [
       "<div>\n",
       "<style scoped>\n",
       "    .dataframe tbody tr th:only-of-type {\n",
       "        vertical-align: middle;\n",
       "    }\n",
       "\n",
       "    .dataframe tbody tr th {\n",
       "        vertical-align: top;\n",
       "    }\n",
       "\n",
       "    .dataframe thead th {\n",
       "        text-align: right;\n",
       "    }\n",
       "</style>\n",
       "<table border=\"1\" class=\"dataframe\">\n",
       "  <thead>\n",
       "    <tr style=\"text-align: right;\">\n",
       "      <th></th>\n",
       "      <th>headline</th>\n",
       "      <th>date</th>\n",
       "      <th>source</th>\n",
       "    </tr>\n",
       "  </thead>\n",
       "  <tbody>\n",
       "    <tr>\n",
       "      <th>742544</th>\n",
       "      <td>Lithium Battery Ban? Check Again</td>\n",
       "      <td>2008-01-01 00:02:35+00:00</td>\n",
       "      <td>nyt</td>\n",
       "    </tr>\n",
       "    <tr>\n",
       "      <th>742545</th>\n",
       "      <td>New Year’s Day Bowl Matchups</td>\n",
       "      <td>2008-01-01 00:21:03+00:00</td>\n",
       "      <td>nyt</td>\n",
       "    </tr>\n",
       "    <tr>\n",
       "      <th>742546</th>\n",
       "      <td>Eight Years, And Back To The Start</td>\n",
       "      <td>2008-01-01 00:33:08+00:00</td>\n",
       "      <td>nyt</td>\n",
       "    </tr>\n",
       "    <tr>\n",
       "      <th>742547</th>\n",
       "      <td>Tackling Clutter to Improve Your Health</td>\n",
       "      <td>2008-01-01 01:11:43+00:00</td>\n",
       "      <td>nyt</td>\n",
       "    </tr>\n",
       "    <tr>\n",
       "      <th>742548</th>\n",
       "      <td>World Juniors: U.S. and Sweden Run the Table i...</td>\n",
       "      <td>2008-01-01 01:26:38+00:00</td>\n",
       "      <td>nyt</td>\n",
       "    </tr>\n",
       "  </tbody>\n",
       "</table>\n",
       "</div>"
      ],
      "text/plain": [
       "                                                 headline  \\\n",
       "742544                   Lithium Battery Ban? Check Again   \n",
       "742545                       New Year’s Day Bowl Matchups   \n",
       "742546                 Eight Years, And Back To The Start   \n",
       "742547            Tackling Clutter to Improve Your Health   \n",
       "742548  World Juniors: U.S. and Sweden Run the Table i...   \n",
       "\n",
       "                            date source  \n",
       "742544 2008-01-01 00:02:35+00:00    nyt  \n",
       "742545 2008-01-01 00:21:03+00:00    nyt  \n",
       "742546 2008-01-01 00:33:08+00:00    nyt  \n",
       "742547 2008-01-01 01:11:43+00:00    nyt  \n",
       "742548 2008-01-01 01:26:38+00:00    nyt  "
      ]
     },
     "metadata": {},
     "output_type": "display_data"
    },
    {
     "data": {
      "text/html": [
       "<div>\n",
       "<style scoped>\n",
       "    .dataframe tbody tr th:only-of-type {\n",
       "        vertical-align: middle;\n",
       "    }\n",
       "\n",
       "    .dataframe tbody tr th {\n",
       "        vertical-align: top;\n",
       "    }\n",
       "\n",
       "    .dataframe thead th {\n",
       "        text-align: right;\n",
       "    }\n",
       "</style>\n",
       "<table border=\"1\" class=\"dataframe\">\n",
       "  <thead>\n",
       "    <tr style=\"text-align: right;\">\n",
       "      <th></th>\n",
       "      <th>date</th>\n",
       "      <th>headline</th>\n",
       "      <th>source</th>\n",
       "    </tr>\n",
       "  </thead>\n",
       "  <tbody>\n",
       "    <tr>\n",
       "      <th>0</th>\n",
       "      <td>2012-01-26 00:00:00+00:00</td>\n",
       "      <td>Mother Nature Raps Natural Gas</td>\n",
       "      <td>wsj</td>\n",
       "    </tr>\n",
       "    <tr>\n",
       "      <th>1</th>\n",
       "      <td>2007-06-15 00:00:00+00:00</td>\n",
       "      <td>Subprime Woes Pinch Bear's Mortgage Star</td>\n",
       "      <td>wsj</td>\n",
       "    </tr>\n",
       "    <tr>\n",
       "      <th>2</th>\n",
       "      <td>2011-01-24 00:00:00+00:00</td>\n",
       "      <td>Facebook Alters Tool in German Privacy Deal</td>\n",
       "      <td>wsj</td>\n",
       "    </tr>\n",
       "    <tr>\n",
       "      <th>3</th>\n",
       "      <td>2014-02-20 00:00:00+00:00</td>\n",
       "      <td>EU Ministers Clear Sanctions on Ukraine</td>\n",
       "      <td>wsj</td>\n",
       "    </tr>\n",
       "    <tr>\n",
       "      <th>4</th>\n",
       "      <td>2011-01-09 00:00:00+00:00</td>\n",
       "      <td>Authorities Seek Possible Associate of Suspect</td>\n",
       "      <td>wsj</td>\n",
       "    </tr>\n",
       "  </tbody>\n",
       "</table>\n",
       "</div>"
      ],
      "text/plain": [
       "                       date                                        headline  \\\n",
       "0 2012-01-26 00:00:00+00:00                  Mother Nature Raps Natural Gas   \n",
       "1 2007-06-15 00:00:00+00:00        Subprime Woes Pinch Bear's Mortgage Star   \n",
       "2 2011-01-24 00:00:00+00:00     Facebook Alters Tool in German Privacy Deal   \n",
       "3 2014-02-20 00:00:00+00:00         EU Ministers Clear Sanctions on Ukraine   \n",
       "4 2011-01-09 00:00:00+00:00  Authorities Seek Possible Associate of Suspect   \n",
       "\n",
       "  source  \n",
       "0    wsj  \n",
       "1    wsj  \n",
       "2    wsj  \n",
       "3    wsj  \n",
       "4    wsj  "
      ]
     },
     "metadata": {},
     "output_type": "display_data"
    }
   ],
   "source": [
    "display(df_nyt.head())\n",
    "display(df_wsj.head())"
   ]
  },
  {
   "cell_type": "code",
   "execution_count": null,
   "metadata": {},
   "outputs": [
    {
     "name": "stdout",
     "output_type": "stream",
     "text": [
      "NYT Headline Missingness Summary\n"
     ]
    },
    {
     "data": {
      "text/plain": [
       "headline    565\n",
       "date          0\n",
       "source        0\n",
       "dtype: int64"
      ]
     },
     "metadata": {},
     "output_type": "display_data"
    },
    {
     "name": "stdout",
     "output_type": "stream",
     "text": [
      "WSJ Headline Missingness Summary\n"
     ]
    },
    {
     "data": {
      "text/plain": [
       "date        0\n",
       "headline    0\n",
       "source      0\n",
       "dtype: int64"
      ]
     },
     "metadata": {},
     "output_type": "display_data"
    }
   ],
   "source": [
    "# Check for missingness\n",
    "print(\"NYT Headline Missingness Summary\")\n",
    "display(df_nyt.isnull().sum())\n",
    "\n",
    "print(\"WSJ Headline Missingness Summary\")\n",
    "display(df_wsj.isnull().sum())"
   ]
  },
  {
   "cell_type": "code",
   "execution_count": null,
   "metadata": {},
   "outputs": [
    {
     "data": {
      "text/plain": [
       "headline    0\n",
       "date        0\n",
       "source      0\n",
       "dtype: int64"
      ]
     },
     "metadata": {},
     "output_type": "display_data"
    }
   ],
   "source": [
    "df_nyt = df_nyt.dropna(subset=[\"headline\"])\n",
    "display(df_nyt.isnull().sum())"
   ]
  },
  {
   "cell_type": "code",
   "execution_count": null,
   "metadata": {},
   "outputs": [
    {
     "data": {
      "image/png": "[encoded data removed]",
      "text/plain": [
       "<Figure size 1400x600 with 2 Axes>"
      ]
     },
     "metadata": {},
     "output_type": "display_data"
    }
   ],
   "source": [
    "df_wsj['year'] = df_wsj['date'].dt.year\n",
    "df_nyt['year'] = df_nyt['date'].dt.year\n",
    "\n",
    "# Filter and count headlines for WSJ and NYT by year\n",
    "wsj_headlines_per_year = df_wsj[df_wsj['source'].str.lower() == 'wsj'].groupby('year')['headline'].count()\n",
    "nyt_headlines_per_year = df_nyt[df_nyt['source'].str.lower() == 'nyt'].groupby('year')['headline'].count()\n",
    "\n",
    "# Create side-by-side plots\n",
    "fig, axs = plt.subplots(1, 2, figsize=(14, 6), sharey=False)\n",
    "\n",
    "# WSJ Headlines Plot\n",
    "axs[0].bar(wsj_headlines_per_year.index, wsj_headlines_per_year.values, color='orange', label='WSJ')\n",
    "axs[0].set_title('WSJ Headlines Per Year')\n",
    "axs[0].set_xlabel('Year')\n",
    "axs[0].set_ylabel('Number of Headlines')\n",
    "axs[0].grid(axis='y', linestyle='--', alpha=0.5)\n",
    "axs[0].legend()\n",
    "\n",
    "# NYT Headlines Plot\n",
    "axs[1].bar(nyt_headlines_per_year.index, nyt_headlines_per_year.values, color='blue', label='NYT')\n",
    "axs[1].set_title('NYT Headlines Per Year')\n",
    "axs[1].set_xlabel('Year')\n",
    "axs[1].grid(axis='y', linestyle='--', alpha=0.5)\n",
    "axs[1].legend()\n",
    "plt.tight_layout()\n",
    "plt.show()"
   ]
  },
  {
   "cell_type": "markdown",
   "metadata": {},
   "source": [
    "## Sentiment Analysis"
   ]
  },
  {
   "cell_type": "code",
   "execution_count": null,
   "metadata": {},
   "outputs": [],
   "source": [
    "def get_textblob_sentiment(text):\n",
    "    analysis = TextBlob(text)\n",
    "    return analysis.sentiment.polarity\n",
    "\n",
    "df_nyt['textblob_nyt'] = df_nyt['headline'].apply(get_textblob_sentiment)\n",
    "df_wsj['textblob_wsj'] = df_wsj['headline'].apply(get_textblob_sentiment)"
   ]
  },
  {
   "cell_type": "code",
   "execution_count": null,
   "metadata": {},
   "outputs": [],
   "source": [
    "vader_analyzer = SentimentIntensityAnalyzer()\n",
    "def get_vader_sentiment(text):\n",
    "    scores = vader_analyzer.polarity_scores(text)\n",
    "    return scores['compound']\n",
    "\n",
    "# Apply VADER sentiment to the 'Headline' column\n",
    "df_nyt['vader_nyt'] = df_nyt['headline'].apply(get_vader_sentiment)\n",
    "df_wsj['vader_wsj'] = df_wsj['headline'].apply(get_vader_sentiment)\n"
   ]
  },
  {
   "cell_type": "code",
   "execution_count": null,
   "metadata": {},
   "outputs": [],
   "source": [
    "# Load the pretrained model and tokenizer\n",
    "model_name = \"nlptown/bert-base-multilingual-uncased-sentiment\"\n",
    "tokenizer = AutoTokenizer.from_pretrained(model_name)\n",
    "model = AutoModelForSequenceClassification.from_pretrained(model_name)\n",
    "\n",
    "# Define a function for BERT sentiment analysis\n",
    "def bert_sentiment_analysis(text):\n",
    "    inputs = tokenizer(text, return_tensors=\"pt\", truncation=True, padding=True, max_length=512)\n",
    "    outputs = model(**inputs)\n",
    "    scores = torch.nn.functional.softmax(outputs.logits, dim=1)\n",
    "    sentiment_score = torch.argmax(scores).item()  # Get the index of the highest score\n",
    "    confidence = torch.max(scores).item()          # Get the confidence score\n",
    "    return sentiment_score, confidence\n"
   ]
  },
  {
   "cell_type": "code",
   "execution_count": null,
   "metadata": {},
   "outputs": [
    {
     "name": "stderr",
     "output_type": "stream",
     "text": [
      "Analyzing Sentiment:   0%|          | 1/17834 [00:00<44:43,  6.65it/s]"
     ]
    },
    {
     "name": "stderr",
     "output_type": "stream",
     "text": [
      "Analyzing Sentiment: 100%|██████████| 17834/17834 [07:13<00:00, 41.13it/s]\n"
     ]
    }
   ],
   "source": [
    "sentiments = []\n",
    "confidences = []\n",
    "for text in tqdm(df_wsj['headline'], desc=\"Analyzing Sentiment\"):\n",
    "    try:\n",
    "        sentiment, confidence = bert_sentiment_analysis(text)\n",
    "        sentiments.append(sentiment)\n",
    "        confidences.append(confidence)\n",
    "    except Exception as e:\n",
    "        print(f\"Error processing text: {text}\\nError: {e}\")\n",
    "        sentiments.append(None)\n",
    "        confidences.append(None)\n",
    "\n",
    "df_wsj['bert_wsj_label'] = sentiments - 2\n",
    "df_wsj['bert_wsj_confidence'] = confidences\n",
    "df_wsj['bert_wsj'] = df_wsj['bert_wsj_label'] * df_wsj['bert_wsj_confidence']"
   ]
  },
  {
   "cell_type": "code",
   "execution_count": null,
   "metadata": {},
   "outputs": [
    {
     "data": {
      "text/html": [
       "<div>\n",
       "<style scoped>\n",
       "    .dataframe tbody tr th:only-of-type {\n",
       "        vertical-align: middle;\n",
       "    }\n",
       "\n",
       "    .dataframe tbody tr th {\n",
       "        vertical-align: top;\n",
       "    }\n",
       "\n",
       "    .dataframe thead th {\n",
       "        text-align: right;\n",
       "    }\n",
       "</style>\n",
       "<table border=\"1\" class=\"dataframe\">\n",
       "  <thead>\n",
       "    <tr style=\"text-align: right;\">\n",
       "      <th></th>\n",
       "      <th>date</th>\n",
       "      <th>headline</th>\n",
       "      <th>source</th>\n",
       "      <th>year</th>\n",
       "      <th>textblob_wsj</th>\n",
       "      <th>vader_nyt</th>\n",
       "      <th>bert_wsj_label</th>\n",
       "      <th>bert_wsj</th>\n",
       "      <th>bert_score_wsj</th>\n",
       "    </tr>\n",
       "  </thead>\n",
       "  <tbody>\n",
       "    <tr>\n",
       "      <th>0</th>\n",
       "      <td>2012-01-26 00:00:00+00:00</td>\n",
       "      <td>Mother Nature Raps Natural Gas</td>\n",
       "      <td>wsj</td>\n",
       "      <td>2012</td>\n",
       "      <td>0.100000</td>\n",
       "      <td>0.3612</td>\n",
       "      <td>2</td>\n",
       "      <td>0.293945</td>\n",
       "      <td>0.587890</td>\n",
       "    </tr>\n",
       "    <tr>\n",
       "      <th>1</th>\n",
       "      <td>2007-06-15 00:00:00+00:00</td>\n",
       "      <td>Subprime Woes Pinch Bear's Mortgage Star</td>\n",
       "      <td>wsj</td>\n",
       "      <td>2007</td>\n",
       "      <td>0.000000</td>\n",
       "      <td>-0.4404</td>\n",
       "      <td>-2</td>\n",
       "      <td>0.287087</td>\n",
       "      <td>-0.574175</td>\n",
       "    </tr>\n",
       "    <tr>\n",
       "      <th>2</th>\n",
       "      <td>2011-01-24 00:00:00+00:00</td>\n",
       "      <td>Facebook Alters Tool in German Privacy Deal</td>\n",
       "      <td>wsj</td>\n",
       "      <td>2011</td>\n",
       "      <td>0.000000</td>\n",
       "      <td>0.0000</td>\n",
       "      <td>-2</td>\n",
       "      <td>0.517856</td>\n",
       "      <td>-1.035712</td>\n",
       "    </tr>\n",
       "    <tr>\n",
       "      <th>3</th>\n",
       "      <td>2014-02-20 00:00:00+00:00</td>\n",
       "      <td>EU Ministers Clear Sanctions on Ukraine</td>\n",
       "      <td>wsj</td>\n",
       "      <td>2014</td>\n",
       "      <td>0.100000</td>\n",
       "      <td>0.3818</td>\n",
       "      <td>1</td>\n",
       "      <td>0.228783</td>\n",
       "      <td>0.228783</td>\n",
       "    </tr>\n",
       "    <tr>\n",
       "      <th>4</th>\n",
       "      <td>2011-01-09 00:00:00+00:00</td>\n",
       "      <td>Authorities Seek Possible Associate of Suspect</td>\n",
       "      <td>wsj</td>\n",
       "      <td>2011</td>\n",
       "      <td>0.000000</td>\n",
       "      <td>-0.2960</td>\n",
       "      <td>-2</td>\n",
       "      <td>0.429186</td>\n",
       "      <td>-0.858372</td>\n",
       "    </tr>\n",
       "    <tr>\n",
       "      <th>...</th>\n",
       "      <td>...</td>\n",
       "      <td>...</td>\n",
       "      <td>...</td>\n",
       "      <td>...</td>\n",
       "      <td>...</td>\n",
       "      <td>...</td>\n",
       "      <td>...</td>\n",
       "      <td>...</td>\n",
       "      <td>...</td>\n",
       "    </tr>\n",
       "    <tr>\n",
       "      <th>19222</th>\n",
       "      <td>2001-03-11 00:00:00+00:00</td>\n",
       "      <td>Japan Unveils Emergency Economic Plan</td>\n",
       "      <td>wsj</td>\n",
       "      <td>2001</td>\n",
       "      <td>0.200000</td>\n",
       "      <td>-0.3818</td>\n",
       "      <td>2</td>\n",
       "      <td>0.403317</td>\n",
       "      <td>0.806634</td>\n",
       "    </tr>\n",
       "    <tr>\n",
       "      <th>19223</th>\n",
       "      <td>2008-09-04 00:00:00+00:00</td>\n",
       "      <td>Corning Guidance Hits Shares</td>\n",
       "      <td>wsj</td>\n",
       "      <td>2008</td>\n",
       "      <td>0.000000</td>\n",
       "      <td>0.2960</td>\n",
       "      <td>2</td>\n",
       "      <td>0.469164</td>\n",
       "      <td>0.938329</td>\n",
       "    </tr>\n",
       "    <tr>\n",
       "      <th>19224</th>\n",
       "      <td>2008-09-19 00:00:00+00:00</td>\n",
       "      <td>China's Market Intervention May Backfire</td>\n",
       "      <td>wsj</td>\n",
       "      <td>2008</td>\n",
       "      <td>0.000000</td>\n",
       "      <td>0.0000</td>\n",
       "      <td>-2</td>\n",
       "      <td>0.339890</td>\n",
       "      <td>-0.679781</td>\n",
       "    </tr>\n",
       "    <tr>\n",
       "      <th>19225</th>\n",
       "      <td>1999-01-31 00:00:00+00:00</td>\n",
       "      <td>REIT Trading Volume Sets Record</td>\n",
       "      <td>wsj</td>\n",
       "      <td>1999</td>\n",
       "      <td>0.000000</td>\n",
       "      <td>0.0000</td>\n",
       "      <td>2</td>\n",
       "      <td>0.381238</td>\n",
       "      <td>0.762476</td>\n",
       "    </tr>\n",
       "    <tr>\n",
       "      <th>19226</th>\n",
       "      <td>2014-02-11 00:00:00+00:00</td>\n",
       "      <td>In New York City Potholes Potholes—Everywhere</td>\n",
       "      <td>wsj</td>\n",
       "      <td>2014</td>\n",
       "      <td>0.136364</td>\n",
       "      <td>0.0000</td>\n",
       "      <td>2</td>\n",
       "      <td>0.599758</td>\n",
       "      <td>1.199515</td>\n",
       "    </tr>\n",
       "  </tbody>\n",
       "</table>\n",
       "<p>17834 rows × 9 columns</p>\n",
       "</div>"
      ],
      "text/plain": [
       "                           date  \\\n",
       "0     2012-01-26 00:00:00+00:00   \n",
       "1     2007-06-15 00:00:00+00:00   \n",
       "2     2011-01-24 00:00:00+00:00   \n",
       "3     2014-02-20 00:00:00+00:00   \n",
       "4     2011-01-09 00:00:00+00:00   \n",
       "...                         ...   \n",
       "19222 2001-03-11 00:00:00+00:00   \n",
       "19223 2008-09-04 00:00:00+00:00   \n",
       "19224 2008-09-19 00:00:00+00:00   \n",
       "19225 1999-01-31 00:00:00+00:00   \n",
       "19226 2014-02-11 00:00:00+00:00   \n",
       "\n",
       "                                             headline source  year  \\\n",
       "0                      Mother Nature Raps Natural Gas    wsj  2012   \n",
       "1            Subprime Woes Pinch Bear's Mortgage Star    wsj  2007   \n",
       "2         Facebook Alters Tool in German Privacy Deal    wsj  2011   \n",
       "3             EU Ministers Clear Sanctions on Ukraine    wsj  2014   \n",
       "4      Authorities Seek Possible Associate of Suspect    wsj  2011   \n",
       "...                                               ...    ...   ...   \n",
       "19222           Japan Unveils Emergency Economic Plan    wsj  2001   \n",
       "19223                    Corning Guidance Hits Shares    wsj  2008   \n",
       "19224        China's Market Intervention May Backfire    wsj  2008   \n",
       "19225                 REIT Trading Volume Sets Record    wsj  1999   \n",
       "19226   In New York City Potholes Potholes—Everywhere    wsj  2014   \n",
       "\n",
       "       textblob_wsj  vader_nyt  bert_wsj_label  bert_wsj  bert_score_wsj  \n",
       "0          0.100000     0.3612               2  0.293945        0.587890  \n",
       "1          0.000000    -0.4404              -2  0.287087       -0.574175  \n",
       "2          0.000000     0.0000              -2  0.517856       -1.035712  \n",
       "3          0.100000     0.3818               1  0.228783        0.228783  \n",
       "4          0.000000    -0.2960              -2  0.429186       -0.858372  \n",
       "...             ...        ...             ...       ...             ...  \n",
       "19222      0.200000    -0.3818               2  0.403317        0.806634  \n",
       "19223      0.000000     0.2960               2  0.469164        0.938329  \n",
       "19224      0.000000     0.0000              -2  0.339890       -0.679781  \n",
       "19225      0.000000     0.0000               2  0.381238        0.762476  \n",
       "19226      0.136364     0.0000               2  0.599758        1.199515  \n",
       "\n",
       "[17834 rows x 9 columns]"
      ]
     },
     "metadata": {},
     "output_type": "display_data"
    }
   ],
   "source": [
    "display(df_wsj)"
   ]
  },
  {
   "cell_type": "markdown",
   "metadata": {},
   "source": [
    "## Scaling"
   ]
  },
  {
   "cell_type": "code",
   "execution_count": null,
   "metadata": {},
   "outputs": [
    {
     "ename": "NameError",
     "evalue": "name 'df_wsj' is not defined",
     "output_type": "error",
     "traceback": [
      "\u001b[0;31m---------------------------------------------------------------------------\u001b[0m",
      "\u001b[0;31mNameError\u001b[0m                                 Traceback (most recent call last)",
      "Cell \u001b[0;32mIn[7], line 5\u001b[0m\n\u001b[1;32m      3\u001b[0m \u001b[38;5;66;03m# Check and scale columns in df_wsj\u001b[39;00m\n\u001b[1;32m      4\u001b[0m \u001b[38;5;28;01mfor\u001b[39;00m col \u001b[38;5;129;01min\u001b[39;00m [\u001b[38;5;124m'\u001b[39m\u001b[38;5;124mbert_score_wsj\u001b[39m\u001b[38;5;124m'\u001b[39m, \u001b[38;5;124m'\u001b[39m\u001b[38;5;124mtextblob_wsj\u001b[39m\u001b[38;5;124m'\u001b[39m, \u001b[38;5;124m'\u001b[39m\u001b[38;5;124mvader_wsj\u001b[39m\u001b[38;5;124m'\u001b[39m]:\n\u001b[0;32m----> 5\u001b[0m     df_wsj[col] \u001b[38;5;241m=\u001b[39m scaler\u001b[38;5;241m.\u001b[39mfit_transform(\u001b[43mdf_wsj\u001b[49m[[col]])\n\u001b[1;32m      7\u001b[0m \u001b[38;5;66;03m# Check and scale columns in df_nyt\u001b[39;00m\n\u001b[1;32m      8\u001b[0m \u001b[38;5;28;01mfor\u001b[39;00m col \u001b[38;5;129;01min\u001b[39;00m [\u001b[38;5;124m'\u001b[39m\u001b[38;5;124mtextblob_nyt\u001b[39m\u001b[38;5;124m'\u001b[39m, \u001b[38;5;124m'\u001b[39m\u001b[38;5;124mvader_nyt\u001b[39m\u001b[38;5;124m'\u001b[39m]:\n",
      "\u001b[0;31mNameError\u001b[0m: name 'df_wsj' is not defined"
     ]
    }
   ],
   "source": [
    "scaler = MinMaxScaler(feature_range=(-1, 1))\n",
    "\n",
    "# Check and scale columns in df_wsj\n",
    "for col in ['bert_score_wsj', 'textblob_wsj', 'vader_wsj']:\n",
    "    df_wsj[col] = scaler.fit_transform(df_wsj[[col]])\n",
    "\n",
    "# Check and scale columns in df_nyt\n",
    "for col in ['textblob_nyt', 'vader_nyt']:\n",
    "    df_nyt[col] = scaler.fit_transform(df_nyt[[col]])"
   ]
  },
  {
   "cell_type": "markdown",
   "metadata": {},
   "source": [
    "_______________"
   ]
  },
  {
   "cell_type": "code",
   "execution_count": null,
   "metadata": {},
   "outputs": [],
   "source": [
    "import matplotlib.pyplot as plt\n",
    "plt.figure(figsize=(15, 5))\n",
    "\n",
    "# TextBlob Sentiment\n",
    "plt.subplot(1, 3, 1)\n",
    "plt.hist(df['TextBlob_Sentiment'], bins=30, color='skyblue', edgecolor='black')\n",
    "plt.title(\"TextBlob Sentiment Distribution\")\n",
    "plt.xlabel(\"Sentiment Polarity\")\n",
    "plt.ylabel(\"Frequency\")\n",
    "\n",
    "# VADER Sentiment\n",
    "plt.subplot(1, 3, 2)\n",
    "plt.hist(df['VADER_Sentiment'], bins=30, color='coral', edgecolor='black')\n",
    "plt.title(\"VADER Sentiment Distribution\")\n",
    "plt.xlabel(\"Compound Sentiment Score\")\n",
    "plt.ylabel(\"Frequency\")\n",
    "\n",
    "# BERT Sentiment\n",
    "plt.subplot(1, 3, 3)\n",
    "plt.hist(df['BERT_Sentiment_Score'], bins=30, color='lightgreen', edgecolor='black')\n",
    "plt.title(\"BERT Sentiment Distribution\")\n",
    "plt.xlabel(\"Sentiment Confidence Score\")\n",
    "plt.ylabel(\"Frequency\")\n",
    "\n",
    "# Adjust layout\n",
    "plt.tight_layout()\n",
    "plt.show()\n"
   ]
  },
  {
   "cell_type": "code",
   "execution_count": null,
   "metadata": {},
   "outputs": [],
   "source": [
    "from sklearn.preprocessing import MinMaxScaler\n",
    "\n",
    "# Load the dataset\n",
    "df = pd.read_csv(\"./archive/wsj_headlines_with_sentiment.csv\")\n",
    "\n",
    "# Initialize MinMaxScaler for range -1 to 1\n",
    "scaler = MinMaxScaler(feature_range=(-1, 1))\n",
    "\n",
    "# Scale the sentiment columns\n",
    "df['Scaled_TextBlob_Sentiment'] = scaler.fit_transform(df[['TextBlob_Sentiment']])\n",
    "df['Scaled_VADER_Sentiment'] = scaler.fit_transform(df[['VADER_Sentiment']])\n",
    "df['Scaled_BERT_Sentiment_Score'] = scaler.fit_transform(df[['BERT_Sentiment_Score']])\n",
    "\n",
    "# Display the first few rows to verify the new scaled columns\n",
    "print(\"DataFrame with scaled sentiment columns:\")\n",
    "display(df.head())\n"
   ]
  },
  {
   "cell_type": "code",
   "execution_count": null,
   "metadata": {},
   "outputs": [],
   "source": [
    "import matplotlib.pyplot as plt\n",
    "plt.figure(figsize=(15, 5))\n",
    "\n",
    "# TextBlob Sentiment\n",
    "plt.subplot(1, 3, 1)\n",
    "plt.hist(df['Scaled_TextBlob_Sentiment'], bins=30, color='skyblue', edgecolor='black')\n",
    "plt.title(\"TextBlob Sentiment Distribution\")\n",
    "plt.xlabel(\"Sentiment Polarity\")\n",
    "plt.ylabel(\"Frequency\")\n",
    "\n",
    "# VADER Sentiment\n",
    "plt.subplot(1, 3, 2)\n",
    "plt.hist(df['Scaled_VADER_Sentiment'], bins=30, color='coral', edgecolor='black')\n",
    "plt.title(\"VADER Sentiment Distribution\")\n",
    "plt.xlabel(\"Compound Sentiment Score\")\n",
    "plt.ylabel(\"Frequency\")\n",
    "\n",
    "# BERT Sentiment\n",
    "plt.subplot(1, 3, 3)\n",
    "plt.hist(df['Scaled_BERT_Sentiment_Score'], bins=30, color='lightgreen', edgecolor='black')\n",
    "plt.title(\"BERT Sentiment Distribution\")\n",
    "plt.xlabel(\"Sentiment Confidence Score\")\n",
    "plt.ylabel(\"Frequency\")\n",
    "\n",
    "# Adjust layout\n",
    "plt.tight_layout()\n",
    "plt.show()"
   ]
  },
  {
   "cell_type": "code",
   "execution_count": null,
   "metadata": {},
   "outputs": [],
   "source": [
    "import yfinance as yf\n",
    "import pandas as pd\n",
    "\n",
    "# Load the dataset with headlines\n",
    "# df = pd.read_csv(\"./archive/wsj_headlines_with_sentiment.csv\")\n",
    "\n",
    "# Get the start and end dates from the dataset\n",
    "start_date = pd.to_datetime(df['Date']).min().strftime('%Y-%m-%d')\n",
    "end_date = pd.to_datetime(df['Date']).max().strftime('%Y-%m-%d')\n",
    "\n",
    "# Fetch S&P 500 data from Yahoo Finance with monthly intervals\n",
    "sp500 = yf.Ticker(\"^GSPC\")\n",
    "sp500_data = sp500.history(start=start_date, end=end_date, interval=\"1mo\")  # Monthly intervals\n",
    "\n",
    "# Extract only the closing price\n",
    "monthly_closing_prices = sp500_data[['Close']]\n",
    "\n",
    "# Reset the index to have Date as a column for easier merging/inspection\n",
    "monthly_closing_prices.reset_index(inplace=True)\n",
    "monthly_closing_prices['Date'] = monthly_closing_prices['Date'].dt.strftime('%Y-%m')\n",
    "\n",
    "# Display the first few rows of the monthly closing prices\n",
    "print(\"Monthly Closing Prices of S&P 500:\")\n",
    "print(monthly_closing_prices.head())\n"
   ]
  },
  {
   "cell_type": "code",
   "execution_count": null,
   "metadata": {},
   "outputs": [],
   "source": [
    "print(df.columns)\n"
   ]
  },
  {
   "cell_type": "code",
   "execution_count": null,
   "metadata": {},
   "outputs": [],
   "source": [
    "# Ensure the 'Date' column in the headlines DataFrame is in datetime format\n",
    "df['Date'] = pd.to_datetime(df['Date'])\n",
    "\n",
    "# Extract year and month for grouping\n",
    "df['YearMonth'] = df['Date'].dt.to_period('M').astype(str)\n",
    "\n",
    "# Group by YearMonth and calculate the average scaled sentiment scores\n",
    "monthly_sentiments = df.groupby('YearMonth').agg({\n",
    "    'Scaled_TextBlob_Sentiment': 'mean',\n",
    "    'Scaled_VADER_Sentiment': 'mean',\n",
    "    'Scaled_BERT_Sentiment_Score': 'mean'\n",
    "}).reset_index()\n"
   ]
  },
  {
   "cell_type": "code",
   "execution_count": null,
   "metadata": {},
   "outputs": [],
   "source": [
    "# Ensure the monthly closing prices DataFrame is a new copy to avoid SettingWithCopyWarning\n",
    "monthly_closing_prices = monthly_closing_prices.copy()\n",
    "\n",
    "# Add 'YearMonth' column in YYYY-MM format\n",
    "monthly_closing_prices['YearMonth'] = monthly_closing_prices['Date']\n",
    "\n",
    "# Drop the 'Date' column\n",
    "monthly_closing_prices.drop(columns=['Date'], inplace=True)\n",
    "\n",
    "# Merge the sentiment DataFrame with the S&P 500 monthly closing prices\n",
    "final_monthly_df = pd.merge(monthly_sentiments, monthly_closing_prices, on='YearMonth', how='inner')\n",
    "\n",
    "# Display the new DataFrame\n",
    "print(\"Final Monthly DataFrame:\")\n",
    "display(final_monthly_df.head())\n",
    "\n",
    "# Save the final DataFrame to a CSV file for future use\n",
    "final_monthly_df.to_csv(\"./final_monthly_data.csv\", index=False)\n",
    "print(\"Data saved to 'final_monthly_data.csv'\")"
   ]
  },
  {
   "cell_type": "code",
   "execution_count": null,
   "metadata": {},
   "outputs": [],
   "source": [
    "from sklearn.preprocessing import MinMaxScaler\n",
    "\n",
    "# Merge the monthly sentiments with S&P500 closing prices\n",
    "final_monthly_df = pd.merge(monthly_sentiments, monthly_closing_prices, on='YearMonth', how='inner')\n",
    "\n",
    "# Initialize MinMaxScaler for range -1 to 1\n",
    "scaler = MinMaxScaler(feature_range=(-1, 1))\n",
    "\n",
    "# Scale the S&P500 monthly closing prices\n",
    "final_monthly_df['Scaled_SP500_Close'] = scaler.fit_transform(final_monthly_df[['Close']])\n",
    "\n",
    "# Display the updated DataFrame\n",
    "print(\"Final Monthly DataFrame with Scaled S&P500 Closing Prices:\")\n",
    "display(final_monthly_df.head())\n"
   ]
  },
  {
   "cell_type": "code",
   "execution_count": null,
   "metadata": {},
   "outputs": [],
   "source": [
    "import seaborn as sns\n",
    "final_monthly_df['YearMonth'] = pd.to_datetime(final_monthly_df['YearMonth'])\n",
    "\n",
    "# Set up the plotting area with 3 side-by-side subplots\n",
    "fig, axes = plt.subplots(1, 3, figsize=(18, 6), sharey=True)\n",
    "sns.set_style(\"whitegrid\")\n",
    "\n",
    "# Plot 1: Scaled TextBlob Sentiment vs Scaled S&P500 with hue as date\n",
    "sns.scatterplot(\n",
    "    data=final_monthly_df,\n",
    "    x='Scaled_TextBlob_Sentiment',\n",
    "    y='Scaled_SP500_Close',\n",
    "    hue='YearMonth',\n",
    "    palette='coolwarm',\n",
    "    ax=axes[0],\n",
    "    legend=False\n",
    ")\n",
    "axes[0].set_title(\"TextBlob Sentiment vs S&P500\", fontsize=12)\n",
    "axes[0].set_xlabel(\"Scaled TextBlob Sentiment\")\n",
    "axes[0].set_ylabel(\"Scaled S&P500 Close\")\n",
    "\n",
    "# Plot 2: Scaled VADER Sentiment vs Scaled S&P500 with hue as date\n",
    "sns.scatterplot(\n",
    "    data=final_monthly_df,\n",
    "    x='Scaled_VADER_Sentiment',\n",
    "    y='Scaled_SP500_Close',\n",
    "    hue='YearMonth',\n",
    "    palette='coolwarm',\n",
    "    ax=axes[1],\n",
    "    legend=False\n",
    ")\n",
    "axes[1].set_title(\"VADER Sentiment vs S&P500\", fontsize=12)\n",
    "axes[1].set_xlabel(\"Scaled VADER Sentiment\")\n",
    "axes[1].set_ylabel(\"\")\n",
    "\n",
    "# Plot 3: Scaled BERT Sentiment vs Scaled S&P500 with hue as date\n",
    "sns.scatterplot(\n",
    "    data=final_monthly_df,\n",
    "    x='Scaled_BERT_Sentiment_Score',\n",
    "    y='Scaled_SP500_Close',\n",
    "    hue='YearMonth',\n",
    "    palette='coolwarm',\n",
    "    ax=axes[2],\n",
    "    legend=False\n",
    ")\n",
    "axes[2].set_title(\"BERT Sentiment vs S&P500\", fontsize=12)\n",
    "axes[2].set_xlabel(\"Scaled BERT Sentiment\")\n",
    "axes[2].set_ylabel(\"\")\n",
    "\n",
    "# Adjust the layout for better appearance\n",
    "plt.tight_layout()\n",
    "plt.show()\n"
   ]
  },
  {
   "cell_type": "code",
   "execution_count": null,
   "metadata": {},
   "outputs": [],
   "source": [
    "# Check if the scaled sentiment scores are within the range [-1, 1]\n",
    "sentiment_columns = [\n",
    "    'Scaled_TextBlob_Sentiment',\n",
    "    'Scaled_VADER_Sentiment',\n",
    "    'Scaled_BERT_Sentiment_Score'\n",
    "]\n",
    "\n",
    "for col in sentiment_columns:\n",
    "    min_val = final_monthly_df[col].min()\n",
    "    max_val = final_monthly_df[col].max()\n",
    "    print(f\"{col}: Min = {min_val}, Max = {max_val}\")\n",
    "\n",
    "# Check if any values are outside the range [-1, 1]\n",
    "for col in sentiment_columns:\n",
    "    out_of_range = final_monthly_df[(final_monthly_df[col] < -1) | (final_monthly_df[col] > 1)]\n",
    "    if not out_of_range.empty:\n",
    "        print(f\"{col} has values outside the range [-1, 1]:\")\n",
    "        display(out_of_range)\n",
    "    else:\n",
    "        print(f\"All values in {col} are within the range [-1, 1].\")\n"
   ]
  },
  {
   "cell_type": "code",
   "execution_count": null,
   "metadata": {},
   "outputs": [],
   "source": [
    "# Ensure 'YearMonth' is sorted in ascending order\n",
    "final_monthly_df = final_monthly_df.sort_values(by='YearMonth')\n",
    "\n",
    "# Extract the year from 'YearMonth' for splitting\n",
    "final_monthly_df['Year'] = final_monthly_df['YearMonth'].dt.year\n",
    "\n",
    "# Define the cutoff year for train-test split\n",
    "test_start_year = final_monthly_df['Year'].max() - 4\n",
    "\n",
    "# Create train and test datasets based on the cutoff year\n",
    "train_data = final_monthly_df[final_monthly_df['Year'] < test_start_year]\n",
    "test_data = final_monthly_df[final_monthly_df['Year'] >= test_start_year]\n",
    "\n",
    "# Drop the 'Year' column as it's not needed for modeling\n",
    "train_data = train_data.drop(columns=['Year'])\n",
    "test_data = test_data.drop(columns=['Year'])\n",
    "\n",
    "# Display the split information\n",
    "print(f\"Train data: {len(train_data)} rows\")\n",
    "print(f\"Test data: {len(test_data)} rows\")\n",
    "display(train_data.head())\n",
    "display(test_data.head())\n"
   ]
  },
  {
   "cell_type": "code",
   "execution_count": null,
   "metadata": {},
   "outputs": [],
   "source": [
    "from sklearn.ensemble import RandomForestClassifier\n",
    "from sklearn.model_selection import train_test_split\n",
    "from sklearn.metrics import classification_report, confusion_matrix, accuracy_score\n",
    "\n",
    "# Define the target: 'Buy' or 'Sell' based on S&P500 close price changes\n",
    "final_monthly_df['Target'] = (final_monthly_df['Close'].diff() > 0).astype(int)  # 1 for Buy (price went up), 0 for Sell (price went down)\n",
    "final_monthly_df['Target'] = final_monthly_df['Target'].shift(-1)  # Shift to align with next month's decision\n",
    "final_monthly_df = final_monthly_df.dropna(subset=['Target'])  # Drop rows with NaN in the target column\n",
    "\n",
    "# Define features and target\n",
    "feature_columns = ['Scaled_TextBlob_Sentiment', 'Scaled_VADER_Sentiment', 'Scaled_BERT_Sentiment_Score']\n",
    "X = final_monthly_df[feature_columns]\n",
    "y = final_monthly_df['Target']\n",
    "\n",
    "# Split the data into training and testing sets\n",
    "X_train, X_test, y_train, y_test = train_test_split(X, y, test_size=0.2, random_state=42, shuffle=False)\n",
    "\n",
    "# Initialize and train the Random Forest classifier\n",
    "rf_classifier = RandomForestClassifier(\n",
    "    n_estimators=100,\n",
    "    max_depth=5,\n",
    "    random_state=42,\n",
    "    class_weight='balanced'\n",
    ")\n",
    "rf_classifier.fit(X_train, y_train)\n",
    "\n",
    "# Make predictions on the test set\n",
    "y_pred = rf_classifier.predict(X_test)\n",
    "\n",
    "# Evaluate the model\n",
    "accuracy = accuracy_score(y_test, y_pred)\n",
    "print(\"Accuracy on test set:\", accuracy)\n",
    "print(\"\\nClassification Report:\")\n",
    "print(classification_report(y_test, y_pred))\n",
    "\n",
    "# Confusion matrix\n",
    "conf_matrix = confusion_matrix(y_test, y_pred)\n",
    "print(\"\\nConfusion Matrix:\")\n",
    "print(conf_matrix)\n",
    "\n",
    "# Plot feature importance\n",
    "import matplotlib.pyplot as plt\n",
    "\n",
    "feature_importances = rf_classifier.feature_importances_\n",
    "plt.figure(figsize=(8, 6))\n",
    "plt.barh(feature_columns, feature_importances, color='skyblue')\n",
    "plt.title(\"Feature Importance in Random Forest Classifier\", fontsize=14)\n",
    "plt.xlabel(\"Importance\", fontsize=12)\n",
    "plt.ylabel(\"Feature\", fontsize=12)\n",
    "plt.grid()\n",
    "plt.show()\n"
   ]
  },
  {
   "cell_type": "code",
   "execution_count": null,
   "metadata": {},
   "outputs": [],
   "source": [
    "# Recreate the test data from the original DataFrame\n",
    "test_data = final_monthly_df.iloc[-len(y_pred):].copy()  # Use the last rows corresponding to the predictions\n",
    "\n",
    "# Add predictions and actual percentage changes to the test dataset\n",
    "test_data['Predicted_Action'] = y_pred  # Add predictions\n",
    "test_data['Actual_Change'] = test_data['Close'].pct_change()  # Actual percentage change\n",
    "test_data = test_data.dropna(subset=['Actual_Change'])  # Drop rows with NaN in 'Actual_Change'\n",
    "\n",
    "# Simulate returns\n",
    "test_data['Simulated_Return'] = test_data.apply(\n",
    "    lambda row: row['Actual_Change'] if row['Predicted_Action'] == 1 else 0,\n",
    "    axis=1\n",
    ")\n",
    "\n",
    "# Calculate cumulative returns\n",
    "cumulative_return = test_data['Simulated_Return'].sum()\n",
    "print(f\"Cumulative Return from Trading Strategy: {cumulative_return:.2%}\")\n",
    "\n",
    "# Compare with buy-and-hold strategy\n",
    "buy_and_hold_return = test_data['Actual_Change'].sum()\n",
    "print(f\"Cumulative Return from Buy-and-Hold Strategy: {buy_and_hold_return:.2%}\")\n",
    "\n",
    "# Display key stats and check test_data structure\n",
    "print(\"\\nSimulated Test Data:\")\n",
    "display(test_data.head())\n"
   ]
  },
  {
   "cell_type": "markdown",
   "metadata": {},
   "source": [
    "<div style=\"background-color: #007BFF; height: 4px; width: 100%;\"></div>"
   ]
  },
  {
   "cell_type": "markdown",
   "metadata": {},
   "source": [
    "# **Problem Statment**"
   ]
  },
  {
   "cell_type": "markdown",
   "metadata": {},
   "source": [
    "<div style=\"background-color: #007BFF; height: 4px; width: 100%;\"></div>"
   ]
  },
  {
   "cell_type": "markdown",
   "metadata": {},
   "source": [
    "# **Our Approach**"
   ]
  },
  {
   "cell_type": "markdown",
   "metadata": {},
   "source": [
    "#### **Dependencies**\n"
   ]
  }
 ],
 "metadata": {
  "kernelspec": {
   "display_name": "Python 3",
   "language": "python",
   "name": "python3"
  },
  "language_info": {
   "codemirror_mode": {
    "name": "ipython",
    "version": 3
   },
   "file_extension": ".py",
   "mimetype": "text/x-python",
   "name": "python",
   "nbconvert_exporter": "python",
   "pygments_lexer": "ipython3",
   "version": "3.12.5"
  }
 },
 "nbformat": 4,
 "nbformat_minor": 2
}
