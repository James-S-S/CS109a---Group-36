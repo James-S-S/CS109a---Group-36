{
 "cells": [
  {
   "cell_type": "code",
   "execution_count": null,
   "metadata": {},
   "outputs": [],
   "source": [
    "# Import libraries\n",
    "import pandas as pd\n",
    "import requests as req\n",
    "import time"
   ]
  },
  {
   "cell_type": "markdown",
   "metadata": {},
   "source": [
    "**Scraping Data Script**\n",
    "\n",
    "We plan to scrape NYT headlines using the Article Search API from NYT developers. Since our Kaggle dataset contains years 1980-2020, we are looking to supplement that dataset by fetching years 2020-2024."
   ]
  },
  {
   "cell_type": "code",
   "execution_count": null,
   "metadata": {},
   "outputs": [],
   "source": [
    "API_KEY='1ttVBmkJcElec5U8GBL3cfi5N62RRYNr'\n",
    "TOPIC='headline'\n",
    "url = 'https://api.nytimes.com/svc/search/v2/articlesearch.json'\n",
    "\n",
    "def get_articles(year):\n",
    "  results = []\n",
    "  print(f\"Fetching Year {year}\")\n",
    "\n",
    "  # Fetch paginated articles\n",
    "  for i in range(0, 1000, 5):\n",
    "    print(\"Getting page {num}\".format(num=i))\n",
    "    response = req.get(url, params={\n",
    "        \"begin_date\": f\"{year}0101\",\n",
    "        \"end_date\": f\"{year}1231\",\n",
    "        \"api-key\": API_KEY,\n",
    "        \"page\": i\n",
    "    })\n",
    "\n",
    "    # Unable to fetch anymore\n",
    "    if response.status_code != 200:\n",
    "      print(\"fail\")\n",
    "      break\n",
    "\n",
    "    # Add to results\n",
    "    data = response.json()\n",
    "    if data[\"status\"] == \"OK\":\n",
    "      docs = data[\"response\"][\"docs\"]\n",
    "      for doc in docs:\n",
    "        results.append({\n",
    "          \"headline\": doc[\"headline\"][\"main\"], \n",
    "          \"pub_date\": doc[\"pub_date\"], \n",
    "          \"url\": doc[\"web_url\"], \n",
    "          \"word_count\": doc[\"word_count\"],\n",
    "          \"news_desk\": doc[\"news_desk\"],\n",
    "          \"source\": doc[\"source\"],\n",
    "        })\n",
    "    time.sleep(15)\n",
    "\n",
    "    # Save DataFrame to CSV\n",
    "    df = pd.DataFrame(results)\n",
    "    output_path = f\"data/nyt_headlines_{year}.csv\"\n",
    "    df.to_csv(output_path, index=False, encoding='utf-8')\n"
   ]
  },
  {
   "cell_type": "code",
   "execution_count": null,
   "metadata": {},
   "outputs": [],
   "source": [
    "# Supplement with years 2020-2024\n",
    "for year in range(2020, 2025):\n",
    "    get_articles(year)"
   ]
  }
 ],
 "metadata": {
  "kernelspec": {
   "display_name": "Python 3",
   "language": "python",
   "name": "python3"
  },
  "language_info": {
   "codemirror_mode": {
    "name": "ipython",
    "version": 3
   },
   "file_extension": ".py",
   "mimetype": "text/x-python",
   "name": "python",
   "nbconvert_exporter": "python",
   "pygments_lexer": "ipython3",
   "version": "3.12.5"
  }
 },
 "nbformat": 4,
 "nbformat_minor": 2
}
